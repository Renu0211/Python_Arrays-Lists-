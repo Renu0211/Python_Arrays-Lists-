{
 "cells": [
  {
   "cell_type": "code",
   "execution_count": 1,
   "metadata": {},
   "outputs": [
    {
     "name": "stdout",
     "output_type": "stream",
     "text": [
      "racksonsit\n"
     ]
    }
   ],
   "source": [
    "a=\"racksonsit\"\n",
    "print(a)"
   ]
  },
  {
   "cell_type": "code",
   "execution_count": 2,
   "metadata": {},
   "outputs": [
    {
     "name": "stdout",
     "output_type": "stream",
     "text": [
      "k\n"
     ]
    }
   ],
   "source": [
    "print(a[3])"
   ]
  },
  {
   "cell_type": "code",
   "execution_count": 3,
   "metadata": {},
   "outputs": [
    {
     "name": "stdout",
     "output_type": "stream",
     "text": [
      "Enter city name=karad\n",
      "a\n"
     ]
    }
   ],
   "source": [
    "a=input(\"Enter city name=\")\n",
    "print(a[3])"
   ]
  },
  {
   "cell_type": "code",
   "execution_count": 17,
   "metadata": {},
   "outputs": [
    {
     "name": "stdout",
     "output_type": "stream",
     "text": [
      "Kajal\n"
     ]
    }
   ],
   "source": [
    "a=\"Kajal\"\n",
    "print(a[:])"
   ]
  },
  {
   "cell_type": "code",
   "execution_count": 5,
   "metadata": {},
   "outputs": [
    {
     "name": "stdout",
     "output_type": "stream",
     "text": [
      "kajal\n"
     ]
    }
   ],
   "source": [
    "a=\"kajal\"\n",
    "print(a[:])"
   ]
  },
  {
   "cell_type": "code",
   "execution_count": 6,
   "metadata": {},
   "outputs": [
    {
     "name": "stdout",
     "output_type": "stream",
     "text": [
      "ajal\n"
     ]
    }
   ],
   "source": [
    "a=\"kajal\"\n",
    "print(a[1:])"
   ]
  },
  {
   "cell_type": "code",
   "execution_count": 7,
   "metadata": {},
   "outputs": [
    {
     "name": "stdout",
     "output_type": "stream",
     "text": [
      "ka\n"
     ]
    }
   ],
   "source": [
    "print(a[:2])    #(n-1) concept"
   ]
  },
  {
   "cell_type": "code",
   "execution_count": 8,
   "metadata": {},
   "outputs": [
    {
     "name": "stdout",
     "output_type": "stream",
     "text": [
      "5\n"
     ]
    }
   ],
   "source": [
    "print(len(a))"
   ]
  },
  {
   "cell_type": "code",
   "execution_count": 10,
   "metadata": {},
   "outputs": [
    {
     "name": "stdout",
     "output_type": "stream",
     "text": [
      "l\n"
     ]
    }
   ],
   "source": [
    "print(a[-1:6])"
   ]
  },
  {
   "cell_type": "code",
   "execution_count": 13,
   "metadata": {},
   "outputs": [
    {
     "name": "stdout",
     "output_type": "stream",
     "text": [
      "\n"
     ]
    }
   ],
   "source": [
    "print(a[-1:-3])"
   ]
  },
  {
   "cell_type": "code",
   "execution_count": 14,
   "metadata": {},
   "outputs": [
    {
     "name": "stdout",
     "output_type": "stream",
     "text": [
      "ja\n"
     ]
    }
   ],
   "source": [
    "print(a[-3:-1])"
   ]
  },
  {
   "cell_type": "code",
   "execution_count": 15,
   "metadata": {},
   "outputs": [
    {
     "name": "stdout",
     "output_type": "stream",
     "text": [
      "Enter any name=karad\n",
      "5\n",
      "<class 'str'>\n",
      "karad\n",
      "arad\n",
      "\n",
      "\n",
      "ra\n",
      "kara\n",
      "ad\n"
     ]
    }
   ],
   "source": [
    "a=input(\"Enter any name=\")\n",
    "print(len(a))\n",
    "print(type(a))\n",
    "print(a[:])\n",
    "print(a[1:5])\n",
    "print(a[5:1])\n",
    "print(a[-1:-3])\n",
    "print(a[-3:-1])\n",
    "print(a[:4])\n",
    "print(a[3:])"
   ]
  },
  {
   "cell_type": "code",
   "execution_count": 16,
   "metadata": {},
   "outputs": [
    {
     "ename": "TypeError",
     "evalue": "'method' object is not subscriptable",
     "output_type": "error",
     "traceback": [
      "\u001b[1;31m---------------------------------------------------------------------------\u001b[0m",
      "\u001b[1;31mTypeError\u001b[0m                                 Traceback (most recent call last)",
      "\u001b[1;32m<ipython-input-16-8a4e56786311>\u001b[0m in \u001b[0;36m<module>\u001b[1;34m\u001b[0m\n\u001b[1;32m----> 1\u001b[1;33m \u001b[0ma\u001b[0m\u001b[1;33m=\u001b[0m\u001b[0minput\u001b[0m\u001b[1;33m[\u001b[0m\u001b[1;34m\"Enter any name=\"\u001b[0m\u001b[1;33m]\u001b[0m\u001b[1;33m\u001b[0m\u001b[1;33m\u001b[0m\u001b[0m\n\u001b[0m\u001b[0;32m      2\u001b[0m \u001b[0mprint\u001b[0m\u001b[1;33m(\u001b[0m\u001b[0mlen\u001b[0m\u001b[1;33m(\u001b[0m\u001b[0ma\u001b[0m\u001b[1;33m)\u001b[0m\u001b[1;33m)\u001b[0m\u001b[1;33m\u001b[0m\u001b[1;33m\u001b[0m\u001b[0m\n\u001b[0;32m      3\u001b[0m \u001b[0mprint\u001b[0m\u001b[1;33m(\u001b[0m\u001b[0mtype\u001b[0m\u001b[1;33m(\u001b[0m\u001b[0ma\u001b[0m\u001b[1;33m)\u001b[0m\u001b[1;33m)\u001b[0m\u001b[1;33m\u001b[0m\u001b[1;33m\u001b[0m\u001b[0m\n",
      "\u001b[1;31mTypeError\u001b[0m: 'method' object is not subscriptable"
     ]
    }
   ],
   "source": [
    "a=input[\"Enter any name=\"]\n",
    "print(len(a))\n",
    "print(type(a))"
   ]
  },
  {
   "cell_type": "code",
   "execution_count": 1,
   "metadata": {},
   "outputs": [
    {
     "name": "stdout",
     "output_type": "stream",
     "text": [
      "<class 'tuple'>\n",
      "<class 'list'>\n",
      "<class 'str'>\n",
      "<class 'str'>\n",
      "<class 'set'>\n"
     ]
    }
   ],
   "source": [
    "a=(\"renu\",\"kajal\")\n",
    "print(type(a))\n",
    "b=[\"renu\",\"kajal\"]\n",
    "print(type(b))\n",
    "c=(\"renu\")\n",
    "print(type(c))\n",
    "d=\"renu\"\n",
    "print(type(d))\n",
    "e={\"renu\",\"kajal\"}\n",
    "print(type(e))"
   ]
  },
  {
   "cell_type": "code",
   "execution_count": 22,
   "metadata": {},
   "outputs": [],
   "source": [
    "#append\n",
    "city=[\"Karad\",\"Pune\",\"Kolhapur\",\"Sangli\",\"Satara\"]\n",
    "city.append(\"Nagpur\")"
   ]
  },
  {
   "cell_type": "code",
   "execution_count": 23,
   "metadata": {},
   "outputs": [
    {
     "name": "stdout",
     "output_type": "stream",
     "text": [
      "['Karad', 'Pune', 'Kolhapur', 'Sangli', 'Satara', 'Nagpur']\n"
     ]
    }
   ],
   "source": [
    "print(city)"
   ]
  },
  {
   "cell_type": "code",
   "execution_count": 25,
   "metadata": {},
   "outputs": [],
   "source": [
    "#insert\n",
    "city.insert(3,\"Nashik\")"
   ]
  },
  {
   "cell_type": "code",
   "execution_count": 26,
   "metadata": {},
   "outputs": [
    {
     "data": {
      "text/plain": [
       "['Karad', 'Pune', 'Kolhapur', 'Nashik', 'Sangli', 'Satara', 'Nagpur']"
      ]
     },
     "execution_count": 26,
     "metadata": {},
     "output_type": "execute_result"
    }
   ],
   "source": [
    "city"
   ]
  },
  {
   "cell_type": "code",
   "execution_count": 27,
   "metadata": {},
   "outputs": [
    {
     "name": "stdout",
     "output_type": "stream",
     "text": [
      "['Karad', 'Pune', 'Kolhapur', 'Nashik', 'Sangli', 'Satara', 'Nagpur']\n"
     ]
    }
   ],
   "source": [
    "print(city)"
   ]
  },
  {
   "cell_type": "code",
   "execution_count": 31,
   "metadata": {},
   "outputs": [
    {
     "name": "stdout",
     "output_type": "stream",
     "text": [
      "Enter any city=Nagpur\n",
      "Enter position to insert=4\n",
      "['Karad', 'Pune', 'Kolhapur', 'Sangli', 'Nagpur', 'Satara']\n",
      "['Karad', 'Pune', 'Kolhapur', 'Sangli', 'Nagpur', 'Satara', 'Nagpur']\n"
     ]
    }
   ],
   "source": [
    "city=[\"Karad\",\"Pune\",\"Kolhapur\",\"Sangli\",\"Satara\"]\n",
    "c=input(\"Enter any city=\")\n",
    "n=int(input(\"Enter position to insert=\"))\n",
    "city.insert(n,c)\n",
    "print(city)\n",
    "city.append(c)\n",
    "print(city)"
   ]
  }
 ],
 "metadata": {
  "kernelspec": {
   "display_name": "Python 3",
   "language": "python",
   "name": "python3"
  },
  "language_info": {
   "codemirror_mode": {
    "name": "ipython",
    "version": 3
   },
   "file_extension": ".py",
   "mimetype": "text/x-python",
   "name": "python",
   "nbconvert_exporter": "python",
   "pygments_lexer": "ipython3",
   "version": "3.7.11"
  }
 },
 "nbformat": 4,
 "nbformat_minor": 4
}
